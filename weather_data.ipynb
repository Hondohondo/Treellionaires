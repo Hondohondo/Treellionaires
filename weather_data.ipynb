{
 "cells": [
  {
   "cell_type": "code",
   "execution_count": null,
   "metadata": {},
   "outputs": [],
   "source": [
    "import pandas as pd\n",
    "\n",
    "# downloaded in batch from https://asmith.ucdavis.edu/data/prism-weather\n",
    "# monthly from 2019-2023\n",
    "csv_file_path = \"monthly_avg_temp_by_zip.csv\"\n",
    "\n",
    "# Load the CSV into a pandas DataFrame\n",
    "df = pd.read_csv(csv_file_path)\n",
    "\n",
    "df[df['zipcode'] == 32601]"
   ]
  },
  {
   "cell_type": "code",
   "execution_count": null,
   "metadata": {},
   "outputs": [],
   "source": [
    "# Group by the 'zipcode' column and calculate the average of the 'tavg' column\n",
    "# Assuming the 'tavg' column contains numerical data\n",
    "zipcode_avg_tavg = df.groupby('zipcode')['tavg'].mean().reset_index()\n",
    "zipcode_avg_tavg.columns = ['zip_code', 'average_monthly_temp']\n",
    "\n",
    "# Display the result, average temp for every zip in FL\n",
    "print(zipcode_avg_tavg)"
   ]
  },
  {
   "cell_type": "code",
   "execution_count": null,
   "metadata": {},
   "outputs": [],
   "source": [
    "import geopandas as gpd\n",
    "\n",
    "# MDC zip code polygons\n",
    "# https://gis-mdc.opendata.arcgis.com/datasets/MDC::zip-code/about\n",
    "# downloaded 9/20\n",
    "shapefile_path = 'mdc_polygons/Zip_Code.shp'\n",
    "gdf_shapefile = gpd.read_file(shapefile_path)\n",
    "\n",
    "gdf = gdf_shapefile.rename(columns={'ZIPCODE': 'zip_code'})\n",
    "gdf['zip_code'] = gdf['zip_code'].astype(int)\n",
    "\n",
    "gdf_shapefile.head()\n"
   ]
  },
  {
   "cell_type": "code",
   "execution_count": null,
   "metadata": {},
   "outputs": [],
   "source": [
    "\n",
    "# Read a GeoJSON file containing US state boundaries\n",
    "# from 2018\n",
    "# https://geohub-bcgis.opendata.arcgis.com/datasets/BCGIS::zip-codes/about\n",
    "broward_gdf = gpd.read_file('broward_zips.geojson')\n",
    "broward_gdf = gdf.rename(columns={'ZIP_CODE': 'zip_code'})\n",
    "broward_gdf['zip_code'] = broward_gdf['zip_code'].astype(int)\n",
    "# 00041 is dropped, don't believe it is a valid zip code\n",
    "broward_gdf = broward_gdf.drop(broward_gdf.index[0])\n",
    "\n",
    "broward_gdf.head()"
   ]
  },
  {
   "cell_type": "code",
   "execution_count": null,
   "metadata": {},
   "outputs": [],
   "source": [
    "# Concatenate the DataFrames\n",
    "gdf_concat = pd.concat([broward_gdf, gdf], ignore_index=True)\n",
    "\n",
    "gdf_concat"
   ]
  },
  {
   "cell_type": "code",
   "execution_count": null,
   "metadata": {},
   "outputs": [],
   "source": [
    "# Assuming 'ZIPCODE' is the common column between shapefile and CSV\n",
    "merged_gdf = gdf_concat.merge(zipcode_avg_tavg, on='zip_code')\n",
    "\n",
    "merged_gdf['average_monthly_temp_f'] = (merged_gdf['average_monthly_temp'] * 9/5) + 32\n",
    "\n",
    "# View the merged data\n",
    "merged_gdf.head()"
   ]
  },
  {
   "cell_type": "code",
   "execution_count": null,
   "metadata": {},
   "outputs": [],
   "source": [
    "# Output the DataFrame as a SHP file\n",
    "merged_gdf.to_file('avg_temp_by_zip_with_mdc_broward_polygons.shp', index=False)\n",
    "\n",
    "# Plot the geometries with ZIP codes as color\n",
    "merged_gdf.plot(column='zip_code', legend=True)"
   ]
  },
  {
   "cell_type": "code",
   "execution_count": null,
   "metadata": {},
   "outputs": [],
   "source": [
    "import matplotlib.pyplot as plt\n",
    "\n",
    "# Assuming merged_gdf is your merged GeoDataFrame\n",
    "# Set the figure size\n",
    "plt.figure(figsize=(12, 10))\n",
    "\n",
    "# Plot the GeoDataFrame\n",
    "# Use 'average_monthly_temp' for coloring the polygons\n",
    "merged_gdf.plot(column='average_monthly_temp',\n",
    "                cmap='OrRd',  # You can change the colormap if desired\n",
    "                linewidth=0.8,\n",
    "                edgecolor='black',\n",
    "                legend=True)\n",
    "\n",
    "# Add titles and labels\n",
    "plt.title('Average Monthly Temperature by ZIP Code')\n",
    "plt.xlabel('Longitude')\n",
    "plt.ylabel('Latitude')\n",
    "\n",
    "# Show the plot\n",
    "plt.show()"
   ]
  },
  {
   "cell_type": "code",
   "execution_count": null,
   "metadata": {},
   "outputs": [],
   "source": [
    "merged_gdf.loc[0, 'geometry']"
   ]
  },
  {
   "cell_type": "code",
   "execution_count": null,
   "metadata": {},
   "outputs": [],
   "source": [
    "# Assuming merged_gdf is already defined and is a GeoPandas DataFrame\n",
    "# Ensure merged_gdf has a column 'average_monthly_temp_f' for the data to be visualized\n",
    "\n",
    "# Convert GeoPandas DataFrame to GeoJSON format\n",
    "geojson = merged_gdf.to_json()\n",
    "\n",
    "# Debugging: Print a sample of the GeoJSON data\n",
    "print(\"GeoJSON Sample:\", geojson[:500])  # Print the first 500 characters\n",
    "\n",
    "# Debugging: Print a sample of the DataFrame\n",
    "print(\"DataFrame Sample:\")\n",
    "print(merged_gdf.head())"
   ]
  },
  {
   "cell_type": "code",
   "execution_count": null,
   "metadata": {},
   "outputs": [],
   "source": [
    "# Check current CRS\n",
    "print(merged_gdf.crs)\n",
    "\n",
    "# If the CRS is not WGS84 (EPSG:4326), reproject it\n",
    "if merged_gdf.crs != \"EPSG:4326\":\n",
    "    merged_gdf = merged_gdf.to_crs(epsg=4326)"
   ]
  },
  {
   "cell_type": "code",
   "execution_count": null,
   "metadata": {},
   "outputs": [],
   "source": []
  }
 ],
 "metadata": {
  "kernelspec": {
   "display_name": "techhub",
   "language": "python",
   "name": "python3"
  },
  "language_info": {
   "codemirror_mode": {
    "name": "ipython",
    "version": 3
   },
   "file_extension": ".py",
   "mimetype": "text/x-python",
   "name": "python",
   "nbconvert_exporter": "python",
   "pygments_lexer": "ipython3",
   "version": "3.10.14"
  }
 },
 "nbformat": 4,
 "nbformat_minor": 2
}
